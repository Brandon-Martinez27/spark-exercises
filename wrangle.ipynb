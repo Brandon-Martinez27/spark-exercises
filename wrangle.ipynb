{
 "cells": [
  {
   "cell_type": "code",
   "execution_count": 1,
   "metadata": {},
   "outputs": [],
   "source": [
    "from pyspark.sql import SparkSession\n",
    "from pyspark.sql.functions import *\n",
    "\n",
    "spark = SparkSession.builder.getOrCreate()"
   ]
  },
  {
   "cell_type": "markdown",
   "metadata": {},
   "source": [
    "# Exercises"
   ]
  },
  {
   "cell_type": "markdown",
   "metadata": {},
   "source": [
    "1. Read the case, department, and source data into their own spark dataframes."
   ]
  },
  {
   "cell_type": "code",
   "execution_count": 2,
   "metadata": {},
   "outputs": [],
   "source": [
    "# specify the data types before creating df\n",
    "from pyspark.sql.types import StructType, StructField, StringType\n",
    "\n",
    "schema_src = StructType([\n",
    "    StructField('source_id', StringType()),\n",
    "    StructField('source_username', StringType()),\n",
    "])"
   ]
  },
  {
   "cell_type": "code",
   "execution_count": 3,
   "metadata": {},
   "outputs": [],
   "source": [
    "# reading data to a spark dataframe\n",
    "src = spark.read.csv(\"data/source.csv\", sep=\",\", header=True, schema=schema_src)\n",
    "dep = spark.read.csv(\"data/dept.csv\", sep=\",\", header=True, inferSchema=True)\n",
    "case = spark.read.csv(\"data/case.csv\", sep=\",\", header=True, inferSchema=True)"
   ]
  },
  {
   "cell_type": "code",
   "execution_count": 4,
   "metadata": {},
   "outputs": [
    {
     "name": "stdout",
     "output_type": "stream",
     "text": [
      "-RECORD 0------------------------------------\n",
      " case_id              | 1014127332           \n",
      " case_opened_date     | 1/1/18 0:42          \n",
      " case_closed_date     | 1/1/18 12:29         \n",
      " SLA_due_date         | 9/26/20 0:42         \n",
      " case_late            | NO                   \n",
      " num_days_late        | -998.5087616000001   \n",
      " case_closed          | YES                  \n",
      " dept_division        | Field Operations     \n",
      " service_request_type | Stray Animal         \n",
      " SLA_days             | 999.0                \n",
      " case_status          | Closed               \n",
      " source_id            | svcCRMLS             \n",
      " request_address      | 2315  EL PASO ST,... \n",
      " council_district     | 5                    \n",
      "only showing top 1 row\n",
      "\n",
      "-RECORD 0----------------------------------\n",
      " dept_division          | 311 Call Center  \n",
      " dept_name              | Customer Service \n",
      " standardized_dept_name | Customer Service \n",
      " dept_subject_to_SLA    | YES              \n",
      "only showing top 1 row\n",
      "\n",
      "+---------+----------------+\n",
      "|source_id| source_username|\n",
      "+---------+----------------+\n",
      "|   100137|Merlene Blodgett|\n",
      "|   103582|     Carmen Cura|\n",
      "|   106463| Richard Sanchez|\n",
      "+---------+----------------+\n",
      "only showing top 3 rows\n",
      "\n"
     ]
    },
    {
     "data": {
      "text/plain": [
       "(None, None, None)"
      ]
     },
     "execution_count": 4,
     "metadata": {},
     "output_type": "execute_result"
    }
   ],
   "source": [
    "# looking into first two rows of data\n",
    "case.show(1, vertical=True), dep.show(1, vertical=True), src.show(3)"
   ]
  },
  {
   "cell_type": "markdown",
   "metadata": {},
   "source": [
    "2. Let's see how writing to the local disk works in spark:\n",
    "\n",
    "    - Write the code necessary to store the source data in both csv and json format, store these as `sources_csv` and `sources_json`\n",
    "    - Inspect your folder structure. What do you notice?"
   ]
  },
  {
   "cell_type": "code",
   "execution_count": 5,
   "metadata": {},
   "outputs": [],
   "source": [
    "# write data to csv locally\n",
    "#src.write.csv('sources-csv')"
   ]
  },
  {
   "cell_type": "code",
   "execution_count": 6,
   "metadata": {},
   "outputs": [],
   "source": [
    "# write data to json locally\n",
    "#src.write.json('sources-json')"
   ]
  },
  {
   "cell_type": "code",
   "execution_count": 7,
   "metadata": {},
   "outputs": [],
   "source": [
    "# there is a _SUCCESS folder and another folder with the unique content for each file type"
   ]
  },
  {
   "cell_type": "markdown",
   "metadata": {},
   "source": [
    "3. Inspect the data in your dataframes. Are the data types appropriate? Write the code necessary to cast the values to the appropriate types."
   ]
  },
  {
   "cell_type": "code",
   "execution_count": 8,
   "metadata": {},
   "outputs": [
    {
     "name": "stdout",
     "output_type": "stream",
     "text": [
      "root\n",
      " |-- source_id: string (nullable = true)\n",
      " |-- source_username: string (nullable = true)\n",
      "\n",
      "root\n",
      " |-- dept_division: string (nullable = true)\n",
      " |-- dept_name: string (nullable = true)\n",
      " |-- standardized_dept_name: string (nullable = true)\n",
      " |-- dept_subject_to_SLA: string (nullable = true)\n",
      "\n",
      "root\n",
      " |-- case_id: integer (nullable = true)\n",
      " |-- case_opened_date: string (nullable = true)\n",
      " |-- case_closed_date: string (nullable = true)\n",
      " |-- SLA_due_date: string (nullable = true)\n",
      " |-- case_late: string (nullable = true)\n",
      " |-- num_days_late: double (nullable = true)\n",
      " |-- case_closed: string (nullable = true)\n",
      " |-- dept_division: string (nullable = true)\n",
      " |-- service_request_type: string (nullable = true)\n",
      " |-- SLA_days: double (nullable = true)\n",
      " |-- case_status: string (nullable = true)\n",
      " |-- source_id: string (nullable = true)\n",
      " |-- request_address: string (nullable = true)\n",
      " |-- council_district: integer (nullable = true)\n",
      "\n"
     ]
    },
    {
     "data": {
      "text/plain": [
       "(None, None, None)"
      ]
     },
     "execution_count": 8,
     "metadata": {},
     "output_type": "execute_result"
    }
   ],
   "source": [
    "src.printSchema(), dep.printSchema(), case.printSchema()"
   ]
  },
  {
   "cell_type": "markdown",
   "metadata": {},
   "source": [
    "##### Case data:\n",
    "- `case_id` --> string, since it's indentifier\n",
    "- `case_opened_date`, `case_closed_data`, `SLA_due_date` --> date types\n",
    "- `case_late` and `case_closed` --> boolean"
   ]
  },
  {
   "cell_type": "code",
   "execution_count": 9,
   "metadata": {},
   "outputs": [],
   "source": [
    "case = case.withColumn('case_id', col('case_id').cast('string'))"
   ]
  },
  {
   "cell_type": "code",
   "execution_count": 10,
   "metadata": {},
   "outputs": [],
   "source": [
    "# rename SLA_due_date to case_due_date\n",
    "case = case.withColumnRenamed(\"SLA_due_date\", \"case_due_date\")\n",
    "\n",
    "fmt = \"M/d/yy H:mm\"\n",
    "case = (\n",
    "    case.withColumn(\"case_opened_date\", to_timestamp(\"case_opened_date\", fmt))\n",
    "    .withColumn(\"case_closed_date\", to_timestamp(\"case_closed_date\", fmt))\n",
    "    .withColumn(\"case_due_date\", to_timestamp(\"case_due_date\", fmt))\n",
    ")"
   ]
  },
  {
   "cell_type": "code",
   "execution_count": 11,
   "metadata": {},
   "outputs": [],
   "source": [
    "case = (case\n",
    "    .withColumn('case_late', col('case_late').cast('boolean'))\n",
    "    .withColumn('case_closed', col('case_closed').cast('boolean'))\n",
    ")"
   ]
  },
  {
   "cell_type": "code",
   "execution_count": 12,
   "metadata": {},
   "outputs": [
    {
     "name": "stdout",
     "output_type": "stream",
     "text": [
      "root\n",
      " |-- case_id: string (nullable = true)\n",
      " |-- case_opened_date: timestamp (nullable = true)\n",
      " |-- case_closed_date: timestamp (nullable = true)\n",
      " |-- case_due_date: timestamp (nullable = true)\n",
      " |-- case_late: boolean (nullable = true)\n",
      " |-- num_days_late: double (nullable = true)\n",
      " |-- case_closed: boolean (nullable = true)\n",
      " |-- dept_division: string (nullable = true)\n",
      " |-- service_request_type: string (nullable = true)\n",
      " |-- SLA_days: double (nullable = true)\n",
      " |-- case_status: string (nullable = true)\n",
      " |-- source_id: string (nullable = true)\n",
      " |-- request_address: string (nullable = true)\n",
      " |-- council_district: integer (nullable = true)\n",
      "\n"
     ]
    }
   ],
   "source": [
    "case.printSchema()"
   ]
  },
  {
   "cell_type": "markdown",
   "metadata": {},
   "source": [
    "---"
   ]
  },
  {
   "cell_type": "markdown",
   "metadata": {},
   "source": [
    "1. How old is the latest (in terms of days past SLA) currently open issue? How long has the oldest (in terms of days since opened) currently opened issue been open?"
   ]
  },
  {
   "cell_type": "code",
   "execution_count": 64,
   "metadata": {},
   "outputs": [
    {
     "name": "stdout",
     "output_type": "stream",
     "text": [
      "-RECORD 0------------------------------------\n",
      " case_id              | 1013225646           \n",
      " case_opened_date     | 2017-01-01 13:48:00  \n",
      " case_closed_date     | null                 \n",
      " case_due_date        | 2017-01-17 08:30:00  \n",
      " case_late            | true                 \n",
      " num_days_late        | 348.6458333          \n",
      " case_closed          | false                \n",
      " service_request_type | No Address Posted    \n",
      " SLA_days             | 15.77859954          \n",
      " case_status          | Open                 \n",
      " source_id            | svcCRMSS             \n",
      " request_address      | 7299  SHADOW RIDG... \n",
      " council_district     | 6                    \n",
      " department           | DSD/Code Enforcement \n",
      " dept_subject_to_SLA  | true                 \n",
      " days_past_due        | 1414                 \n",
      "only showing top 1 row\n",
      "\n"
     ]
    }
   ],
   "source": [
    "# oldest past due\n",
    "(\n",
    "    case\n",
    "    .select('*',\n",
    "        datediff(current_timestamp(),'case_due_date').alias('days_past_due'))\n",
    "    .filter(col('case_closed') == 'false')\n",
    "    .sort(desc('days_past_due'))\n",
    "    .show(1, vertical=True)\n",
    ")"
   ]
  },
  {
   "cell_type": "code",
   "execution_count": 65,
   "metadata": {},
   "outputs": [
    {
     "name": "stdout",
     "output_type": "stream",
     "text": [
      "-RECORD 0------------------------------------\n",
      " case_id              | 1013225646           \n",
      " case_opened_date     | 2017-01-01 13:48:00  \n",
      " case_closed_date     | null                 \n",
      " case_due_date        | 2017-01-17 08:30:00  \n",
      " case_late            | true                 \n",
      " num_days_late        | 348.6458333          \n",
      " case_closed          | false                \n",
      " service_request_type | No Address Posted    \n",
      " SLA_days             | 15.77859954          \n",
      " case_status          | Open                 \n",
      " source_id            | svcCRMSS             \n",
      " request_address      | 7299  SHADOW RIDG... \n",
      " council_district     | 6                    \n",
      " department           | DSD/Code Enforcement \n",
      " dept_subject_to_SLA  | true                 \n",
      " case_age             | 1430                 \n",
      "only showing top 1 row\n",
      "\n"
     ]
    }
   ],
   "source": [
    "# oldest current case since opening\n",
    "(\n",
    "    case\n",
    "    .select('*',\n",
    "        datediff(current_timestamp(),'case_opened_date').alias('case_age'))\n",
    "    .filter(col('case_closed') == 'false')\n",
    "    .sort(desc('case_age'))\n",
    "    .show(1, vertical=True)\n",
    ")"
   ]
  },
  {
   "cell_type": "markdown",
   "metadata": {},
   "source": [
    "2. How many Stray Animal cases are there?"
   ]
  },
  {
   "cell_type": "code",
   "execution_count": 15,
   "metadata": {},
   "outputs": [
    {
     "data": {
      "text/plain": [
       "26760"
      ]
     },
     "execution_count": 15,
     "metadata": {},
     "output_type": "execute_result"
    }
   ],
   "source": [
    "case.filter(col('service_request_type') == 'Stray Animal').count()"
   ]
  },
  {
   "cell_type": "markdown",
   "metadata": {},
   "source": [
    "3. How many service requests that are assigned to the Field Operations department (`dept_division`) are not classified as \"Officer Standby\" request type (`service_request_type`)?"
   ]
  },
  {
   "cell_type": "code",
   "execution_count": 16,
   "metadata": {},
   "outputs": [
    {
     "data": {
      "text/plain": [
       "113902"
      ]
     },
     "execution_count": 16,
     "metadata": {},
     "output_type": "execute_result"
    }
   ],
   "source": [
    "(\n",
    "    case\n",
    "    .filter(col('dept_division') == 'Field Operations')\n",
    "    .filter(col('service_request_type') != 'Officer Standby')\n",
    "    .count()\n",
    ")"
   ]
  },
  {
   "cell_type": "markdown",
   "metadata": {},
   "source": [
    "4. Convert the `council_district` column to a string column."
   ]
  },
  {
   "cell_type": "code",
   "execution_count": 69,
   "metadata": {},
   "outputs": [],
   "source": [
    "case = case.withColumn(\"council_district\", col(\"council_district\").cast(\"string\"))"
   ]
  },
  {
   "cell_type": "markdown",
   "metadata": {},
   "source": [
    "5. Extract the year from the case_closed_date column."
   ]
  },
  {
   "cell_type": "code",
   "execution_count": 18,
   "metadata": {},
   "outputs": [
    {
     "name": "stdout",
     "output_type": "stream",
     "text": [
      "+----+-------------------+\n",
      "|year|   case_closed_date|\n",
      "+----+-------------------+\n",
      "|2018|2018-01-01 12:29:00|\n",
      "|2018|2018-01-03 08:11:00|\n",
      "|2018|2018-01-02 07:57:00|\n",
      "|2018|2018-01-02 08:13:00|\n",
      "|2018|2018-01-01 13:29:00|\n",
      "+----+-------------------+\n",
      "only showing top 5 rows\n",
      "\n"
     ]
    }
   ],
   "source": [
    "(\n",
    "    case\n",
    "    .withColumn('year', year('case_closed_date'))\n",
    "    .select('year', 'case_closed_date')\n",
    "    .show(5)\n",
    ")"
   ]
  },
  {
   "cell_type": "markdown",
   "metadata": {},
   "source": [
    "6. Convert num_days_late from days to hours in new columns num_hours_late."
   ]
  },
  {
   "cell_type": "code",
   "execution_count": 70,
   "metadata": {},
   "outputs": [
    {
     "name": "stdout",
     "output_type": "stream",
     "text": [
      "+-------------------+-------------------+\n",
      "|      num_days_late|     num_hours_late|\n",
      "+-------------------+-------------------+\n",
      "| -998.5087616000001|     -23964.2102784|\n",
      "|-2.0126041669999997|-48.302500007999996|\n",
      "|       -3.022337963|      -72.536111112|\n",
      "|       -15.01148148|      -360.27555552|\n",
      "|0.37216435200000003|  8.931944448000001|\n",
      "+-------------------+-------------------+\n",
      "only showing top 5 rows\n",
      "\n"
     ]
    }
   ],
   "source": [
    "(\n",
    "    case\n",
    "    .withColumn('num_hours_late', expr('num_days_late * 24'))\n",
    "    .select('num_days_late', 'num_hours_late')\n",
    "    .show(5)\n",
    ")"
   ]
  },
  {
   "cell_type": "markdown",
   "metadata": {},
   "source": [
    "7. Join the case data with the source and department data."
   ]
  },
  {
   "cell_type": "code",
   "execution_count": 20,
   "metadata": {},
   "outputs": [],
   "source": [
    "# join dep to case\n",
    "case = (\n",
    "    case\n",
    "    # left join on dept_division\n",
    "    .join(dep, \"dept_division\", \"left\")\n",
    "    # drop all the columns except for standardized name, as it has much fewer unique values\n",
    "    .drop(dep.dept_division)\n",
    "    .drop(dep.dept_name)\n",
    "    .drop(case.dept_division)\n",
    "    .withColumnRenamed(\"standardized_dept_name\", \"department\")\n",
    "    # convert to a boolean\n",
    "    .withColumn(\"dept_subject_to_SLA\", col(\"dept_subject_to_SLA\") == \"YES\")\n",
    ")"
   ]
  },
  {
   "cell_type": "code",
   "execution_count": 71,
   "metadata": {},
   "outputs": [
    {
     "name": "stdout",
     "output_type": "stream",
     "text": [
      "-RECORD 0------------------------------------\n",
      " source_id            | svcCRMLS             \n",
      " case_id              | 1014127332           \n",
      " case_opened_date     | 2018-01-01 00:42:00  \n",
      " case_closed_date     | 2018-01-01 12:29:00  \n",
      " case_due_date        | 2020-09-26 00:42:00  \n",
      " case_late            | false                \n",
      " num_days_late        | -998.5087616000001   \n",
      " case_closed          | true                 \n",
      " service_request_type | Stray Animal         \n",
      " SLA_days             | 999.0                \n",
      " case_status          | Closed               \n",
      " request_address      | 2315  EL PASO ST,... \n",
      " council_district     | 5                    \n",
      " department           | Animal Care Services \n",
      " dept_subject_to_SLA  | true                 \n",
      " source_username      | svcCRMLS             \n",
      "only showing top 1 row\n",
      "\n"
     ]
    }
   ],
   "source": [
    "# join source to case\n",
    "df = (\n",
    "    case\n",
    "    # left join on source_id\n",
    "    .join(src, \"source_id\", \"left\")\n",
    "    # drop source_id from src\n",
    "    .drop(src.source_id)\n",
    ")\n",
    "\n",
    "df.show(1, vertical=True)"
   ]
  },
  {
   "cell_type": "markdown",
   "metadata": {},
   "source": [
    "8. Are there any cases that do not have a request source?"
   ]
  },
  {
   "cell_type": "code",
   "execution_count": 35,
   "metadata": {},
   "outputs": [],
   "source": [
    "df = df.withColumn(\"request_address\", trim(lower(df.request_address)))"
   ]
  },
  {
   "cell_type": "code",
   "execution_count": 45,
   "metadata": {},
   "outputs": [
    {
     "name": "stdout",
     "output_type": "stream",
     "text": [
      "(0 rows)\n",
      "\n"
     ]
    }
   ],
   "source": [
    "df.filter(df.request_address.isNull()).show(vertical=True)"
   ]
  },
  {
   "cell_type": "markdown",
   "metadata": {},
   "source": [
    "9. What are the top 10 service request types in terms of number of requests?"
   ]
  },
  {
   "cell_type": "code",
   "execution_count": 33,
   "metadata": {},
   "outputs": [
    {
     "name": "stdout",
     "output_type": "stream",
     "text": [
      "+--------------------------------+-----+\n",
      "|service_request_type            |count|\n",
      "+--------------------------------+-----+\n",
      "|No Pickup                       |89210|\n",
      "|Overgrown Yard/Trash            |66403|\n",
      "|Bandit Signs                    |32968|\n",
      "|Damaged Cart                    |31163|\n",
      "|Front Or Side Yard Parking      |28920|\n",
      "|Stray Animal                    |27361|\n",
      "|Aggressive Animal(Non-Critical) |25492|\n",
      "|Cart Exchange Request           |22608|\n",
      "|Junk Vehicle On Private Property|21649|\n",
      "|Pot Hole Repair                 |20827|\n",
      "+--------------------------------+-----+\n",
      "only showing top 10 rows\n",
      "\n"
     ]
    }
   ],
   "source": [
    "(\n",
    "    df.groupBy('service_request_type')\n",
    "    .count()\n",
    "    .sort(desc('count'))\n",
    "    .show(10, truncate=False)\n",
    ")"
   ]
  },
  {
   "cell_type": "markdown",
   "metadata": {},
   "source": [
    "10. What are the top 10 service request types in terms of average days late?"
   ]
  },
  {
   "cell_type": "code",
   "execution_count": 84,
   "metadata": {},
   "outputs": [
    {
     "name": "stdout",
     "output_type": "stream",
     "text": [
      "+--------------------------------------+------------------+\n",
      "|service_request_type                  |avg_days_late     |\n",
      "+--------------------------------------+------------------+\n",
      "|Zoning: Recycle Yard                  |210.89201994318182|\n",
      "|Zoning: Junk Yards                    |200.20517608494276|\n",
      "|Structure/Housing Maintenance         |190.20707698509804|\n",
      "|Donation Container Enforcement        |171.09115313942618|\n",
      "|Storage of Used Mattress              |163.96812829714287|\n",
      "|Labeling for Used Mattress            |162.43032902285717|\n",
      "|Record Keeping of Used Mattresses     |153.99724039428568|\n",
      "|Signage Requied for Sale of Used Mattr|151.63868055333333|\n",
      "|Traffic Signal Graffiti               |137.64583330000002|\n",
      "|License Requied Used Mattress Sales   |128.79828704142858|\n",
      "+--------------------------------------+------------------+\n",
      "only showing top 10 rows\n",
      "\n"
     ]
    }
   ],
   "source": [
    "(\n",
    "    df.where('case_late')\n",
    "    .groupBy('service_request_type')\n",
    "    .agg(mean('num_days_late').alias('avg_days_late'))\n",
    "    .sort(desc('avg_days_late'))\n",
    "    .show(10, truncate=False)\n",
    ")"
   ]
  },
  {
   "cell_type": "markdown",
   "metadata": {},
   "source": [
    "11. Does number of days late depend on department?"
   ]
  },
  {
   "cell_type": "code",
   "execution_count": 87,
   "metadata": {},
   "outputs": [
    {
     "name": "stdout",
     "output_type": "stream",
     "text": [
      "+--------------------+------------------+\n",
      "|          department|     avg_days_late|\n",
      "+--------------------+------------------+\n",
      "|    Customer Service| 88.18248182589824|\n",
      "|DSD/Code Enforcement| 49.50633998635033|\n",
      "|Animal Care Services| 23.44672963473822|\n",
      "|  Parks & Recreation|22.427807192724128|\n",
      "|Trans & Cap Impro...| 10.66295045507867|\n",
      "|         Solid Waste| 7.147172789557422|\n",
      "|        Metro Health| 6.494699602827868|\n",
      "+--------------------+------------------+\n",
      "\n"
     ]
    }
   ],
   "source": [
    "( \n",
    "    df.where('case_late')\n",
    "    .groupBy('department')\n",
    "    .agg(avg('num_days_late').alias('avg_days_late'))\n",
    "    .sort(desc('avg_days_late'))\n",
    "    .show()\n",
    ")"
   ]
  },
  {
   "cell_type": "markdown",
   "metadata": {},
   "source": [
    "12. How do number of days late depend on department and request type?"
   ]
  },
  {
   "cell_type": "code",
   "execution_count": 88,
   "metadata": {},
   "outputs": [
    {
     "name": "stdout",
     "output_type": "stream",
     "text": [
      "+--------------------+--------------------+------------------+\n",
      "|          department|service_request_type|     avg_days_late|\n",
      "+--------------------+--------------------+------------------+\n",
      "|DSD/Code Enforcement|Zoning: Recycle Yard| 273.6008813301333|\n",
      "|DSD/Code Enforcement|  Zoning: Junk Yards| 251.9073916303836|\n",
      "|DSD/Code Enforcement|Donation Containe...|201.74241051817063|\n",
      "|DSD/Code Enforcement|Structure/Housing...|182.42093904966666|\n",
      "|DSD/Code Enforcement|Graffiti: Private...| 175.0883448666667|\n",
      "|DSD/Code Enforcement|Storage of Used M...|163.96812829714287|\n",
      "|DSD/Code Enforcement|Labeling for Used...|162.43032902285717|\n",
      "|DSD/Code Enforcement|Record Keeping of...|153.99724039428568|\n",
      "|DSD/Code Enforcement|Signage Requied f...|151.63868055333333|\n",
      "|DSD/Code Enforcement|License Requied U...|128.79828704142858|\n",
      "|DSD/Code Enforcement|             Vendors|127.33261922710678|\n",
      "|DSD/Code Enforcement|         Curbstoning|121.75948969483001|\n",
      "|DSD/Code Enforcement|DSDB Ordered/Hold...|119.80444964709997|\n",
      "|DSD/Code Enforcement|CPS Energy Wood P...|115.18708329999998|\n",
      "|DSD/Code Enforcement|Used Mattress Ins...|108.14074724718749|\n",
      "|DSD/Code Enforcement|DSDB Ordered/Hold...|106.35908484194186|\n",
      "|DSD/Code Enforcement|DSDB Ordered/Hold...|104.71526139968292|\n",
      "|DSD/Code Enforcement|Zoning: Mobile Homes|103.76918520199999|\n",
      "|DSD/Code Enforcement|Certificates of O...|103.29788957373627|\n",
      "|DSD/Code Enforcement|    Zoning: Setbacks| 98.44770876589999|\n",
      "+--------------------+--------------------+------------------+\n",
      "only showing top 20 rows\n",
      "\n"
     ]
    }
   ],
   "source": [
    "( \n",
    "    df.where('case_late')\n",
    "    .where('case_closed')\n",
    "    .groupBy('department', 'service_request_type')\n",
    "    .agg(avg('num_days_late').alias('avg_days_late'))\n",
    "    .sort(desc('avg_days_late'))\n",
    "    .show()\n",
    ")"
   ]
  },
  {
   "cell_type": "markdown",
   "metadata": {},
   "source": [
    "**Bonus**: You might have noticed that the latest date in the dataset is fairly far off from the present day. To account for this, replace any occurances of the current time with the maximum date from the dataset."
   ]
  },
  {
   "cell_type": "code",
   "execution_count": 79,
   "metadata": {},
   "outputs": [
    {
     "name": "stdout",
     "output_type": "stream",
     "text": [
      "+---------------------+\n",
      "|max(case_opened_date)|\n",
      "+---------------------+\n",
      "|  2018-08-08 10:38:00|\n",
      "+---------------------+\n",
      "\n",
      "+---------------------+\n",
      "|max(case_closed_date)|\n",
      "+---------------------+\n",
      "|  2018-08-08 10:38:00|\n",
      "+---------------------+\n",
      "\n",
      "+-------------------+\n",
      "| max(case_due_date)|\n",
      "+-------------------+\n",
      "|2022-05-27 15:07:00|\n",
      "+-------------------+\n",
      "\n"
     ]
    },
    {
     "data": {
      "text/plain": [
       "(None, None, None)"
      ]
     },
     "execution_count": 79,
     "metadata": {},
     "output_type": "execute_result"
    }
   ],
   "source": [
    "# latest date is 'max due date'\n",
    "(\n",
    "df.select(max(col('case_opened_date'))).show(), \n",
    "df.select(max(col('case_closed_date'))).show(), \n",
    "df.select(max(col('case_due_date'))).show()\n",
    ")"
   ]
  },
  {
   "cell_type": "code",
   "execution_count": 82,
   "metadata": {},
   "outputs": [
    {
     "name": "stdout",
     "output_type": "stream",
     "text": [
      "-RECORD 0------------------------------------\n",
      " source_id            | CRM_Listener         \n",
      " case_id              | 1014178781           \n",
      " case_opened_date     | 2018-01-19 17:07:00  \n",
      " case_closed_date     | null                 \n",
      " case_due_date        | 2021-11-25 08:30:00  \n",
      " case_late            | false                \n",
      " num_days_late        | -1204.354167         \n",
      " case_closed          | false                \n",
      " service_request_type | Signal Timing Mod... \n",
      " SLA_days             | 1405.640856          \n",
      " case_status          | Open                 \n",
      " request_address      | MACARTHUR VIEW an... \n",
      " council_district     | 10                   \n",
      " department           | Trans & Cap Impro... \n",
      " dept_subject_to_SLA  | true                 \n",
      " source_username      | CRM_Listener         \n",
      "-RECORD 1------------------------------------\n",
      " source_id            | CRM_Listener         \n",
      " case_id              | 1014250897           \n",
      " case_opened_date     | 2018-02-16 16:42:00  \n",
      " case_closed_date     | null                 \n",
      " case_due_date        | 2021-12-22 16:42:00  \n",
      " case_late            | false                \n",
      " num_days_late        | -1231.695856         \n",
      " case_closed          | false                \n",
      " service_request_type | Signal Timing Mod... \n",
      " SLA_days             | 1405.0               \n",
      " case_status          | Open                 \n",
      " request_address      | HARDY OAK BLVD an... \n",
      " council_district     | 9                    \n",
      " department           | Trans & Cap Impro... \n",
      " dept_subject_to_SLA  | true                 \n",
      " source_username      | CRM_Listener         \n",
      "-RECORD 2------------------------------------\n",
      " source_id            | CRM_Listener         \n",
      " case_id              | 1014250968           \n",
      " case_opened_date     | 2018-02-16 16:59:00  \n",
      " case_closed_date     | null                 \n",
      " case_due_date        | 2021-12-22 16:59:00  \n",
      " case_late            | false                \n",
      " num_days_late        | -1231.707778         \n",
      " case_closed          | false                \n",
      " service_request_type | Signal Timing Mod... \n",
      " SLA_days             | 1405.0               \n",
      " case_status          | Open                 \n",
      " request_address      | HARDY OAK BLVD an... \n",
      " council_district     | 9                    \n",
      " department           | Trans & Cap Impro... \n",
      " dept_subject_to_SLA  | true                 \n",
      " source_username      | CRM_Listener         \n",
      "-RECORD 3------------------------------------\n",
      " source_id            | ss21394              \n",
      " case_id              | 1014306320           \n",
      " case_opened_date     | 2018-03-08 10:52:00  \n",
      " case_closed_date     | 2018-03-08 10:54:00  \n",
      " case_due_date        | 2020-12-01 10:52:00  \n",
      " case_late            | false                \n",
      " num_days_late        | -998.9981597000001   \n",
      " case_closed          | true                 \n",
      " service_request_type | Stray Animal         \n",
      " SLA_days             | 999.0                \n",
      " case_status          | Closed               \n",
      " request_address      | 8938  OLD SKY HAR... \n",
      " council_district     | 4                    \n",
      " department           | Animal Care Services \n",
      " dept_subject_to_SLA  | true                 \n",
      " source_username      | Shirley Sanchez      \n",
      "-RECORD 4------------------------------------\n",
      " source_id            | ss21394              \n",
      " case_id              | 1014306438           \n",
      " case_opened_date     | 2018-03-08 11:11:00  \n",
      " case_closed_date     | 2018-03-08 11:31:00  \n",
      " case_due_date        | 2020-12-01 11:11:00  \n",
      " case_late            | false                \n",
      " num_days_late        | -998.9858218         \n",
      " case_closed          | true                 \n",
      " service_request_type | Stray Animal         \n",
      " SLA_days             | 999.0                \n",
      " case_status          | Closed               \n",
      " request_address      | TAMPICO ST and 21... \n",
      " council_district     | 5                    \n",
      " department           | Animal Care Services \n",
      " dept_subject_to_SLA  | true                 \n",
      " source_username      | Shirley Sanchez      \n",
      "-RECORD 5------------------------------------\n",
      " source_id            | dc12381              \n",
      " case_id              | 1014306570           \n",
      " case_opened_date     | 2018-03-08 11:35:00  \n",
      " case_closed_date     | 2018-03-09 23:00:00  \n",
      " case_due_date        | 2020-12-01 11:35:00  \n",
      " case_late            | false                \n",
      " num_days_late        | -997.5240856         \n",
      " case_closed          | true                 \n",
      " service_request_type | Stray Animal         \n",
      " SLA_days             | 999.0                \n",
      " case_status          | Closed               \n",
      " request_address      | 7138  FIVE PALMS ... \n",
      " council_district     | 4                    \n",
      " department           | Animal Care Services \n",
      " dept_subject_to_SLA  | true                 \n",
      " source_username      | Danita Mitchell      \n",
      "-RECORD 6------------------------------------\n",
      " source_id            | svcCRMSS             \n",
      " case_id              | 1014306810           \n",
      " case_opened_date     | 2018-03-08 12:14:00  \n",
      " case_closed_date     | 2018-03-08 12:18:00  \n",
      " case_due_date        | 2020-12-01 12:14:00  \n",
      " case_late            | false                \n",
      " num_days_late        | -998.9971065         \n",
      " case_closed          | true                 \n",
      " service_request_type | Stray Animal         \n",
      " SLA_days             | 999.0                \n",
      " case_status          | Closed               \n",
      " request_address      | NORTHFIELD DR and... \n",
      " council_district     | 7                    \n",
      " department           | Animal Care Services \n",
      " dept_subject_to_SLA  | true                 \n",
      " source_username      | svcCRMSS             \n",
      "-RECORD 7------------------------------------\n",
      " source_id            | dc12381              \n",
      " case_id              | 1014306944           \n",
      " case_opened_date     | 2018-03-08 12:37:00  \n",
      " case_closed_date     | 2018-03-08 12:43:00  \n",
      " case_due_date        | 2020-12-01 12:37:00  \n",
      " case_late            | false                \n",
      " num_days_late        | -998.9956829         \n",
      " case_closed          | true                 \n",
      " service_request_type | Stray Animal         \n",
      " SLA_days             | 999.0                \n",
      " case_status          | Closed               \n",
      " request_address      | 127  CLAY ST, San... \n",
      " council_district     | 5                    \n",
      " department           | Animal Care Services \n",
      " dept_subject_to_SLA  | true                 \n",
      " source_username      | Danita Mitchell      \n",
      "-RECORD 8------------------------------------\n",
      " source_id            | ss21394              \n",
      " case_id              | 1014306974           \n",
      " case_opened_date     | 2018-03-08 12:42:00  \n",
      " case_closed_date     | 2018-03-08 12:47:00  \n",
      " case_due_date        | 2020-12-01 12:42:00  \n",
      " case_late            | false                \n",
      " num_days_late        | -998.9970602         \n",
      " case_closed          | true                 \n",
      " service_request_type | Stray Animal         \n",
      " SLA_days             | 999.0                \n",
      " case_status          | Closed               \n",
      " request_address      | 1510  PASADENA, S... \n",
      " council_district     | 1                    \n",
      " department           | Animal Care Services \n",
      " dept_subject_to_SLA  | true                 \n",
      " source_username      | Shirley Sanchez      \n",
      "-RECORD 9------------------------------------\n",
      " source_id            | 120752               \n",
      " case_id              | 1014306981           \n",
      " case_opened_date     | 2018-03-08 12:43:00  \n",
      " case_closed_date     | 2018-03-08 12:47:00  \n",
      " case_due_date        | 2020-12-01 12:43:00  \n",
      " case_late            | false                \n",
      " num_days_late        | -998.9974189999999   \n",
      " case_closed          | true                 \n",
      " service_request_type | Stray Animal         \n",
      " SLA_days             | 999.0                \n",
      " case_status          | Closed               \n",
      " request_address      | BOSTON HARBOR and... \n",
      " council_district     | 4                    \n",
      " department           | Animal Care Services \n",
      " dept_subject_to_SLA  | true                 \n",
      " source_username      | Eva T. Kleiber       \n",
      "-RECORD 10-----------------------------------\n",
      " source_id            | 139344               \n",
      " case_id              | 1014306987           \n",
      " case_opened_date     | 2018-03-08 12:44:00  \n",
      " case_closed_date     | 2018-03-08 12:50:00  \n",
      " case_due_date        | 2020-12-01 12:44:00  \n",
      " case_late            | false                \n",
      " num_days_late        | -998.9958332999998   \n",
      " case_closed          | true                 \n",
      " service_request_type | Stray Animal         \n",
      " SLA_days             | 999.0                \n",
      " case_status          | Closed               \n",
      " request_address      | 1210  RANGE FINDE... \n",
      " council_district     | 6                    \n",
      " department           | Animal Care Services \n",
      " dept_subject_to_SLA  | true                 \n",
      " source_username      | Isis Mendoza         \n",
      "-RECORD 11-----------------------------------\n",
      " source_id            | mc21309              \n",
      " case_id              | 1014307062           \n",
      " case_opened_date     | 2018-03-08 12:59:00  \n",
      " case_closed_date     | 2018-03-08 13:04:00  \n",
      " case_due_date        | 2020-12-01 12:59:00  \n",
      " case_late            | false                \n",
      " num_days_late        | -998.9966204         \n",
      " case_closed          | true                 \n",
      " service_request_type | Stray Animal         \n",
      " SLA_days             | 999.0                \n",
      " case_status          | Closed               \n",
      " request_address      | DULUTH and RHODA AVE \n",
      " council_district     | 4                    \n",
      " department           | Animal Care Services \n",
      " dept_subject_to_SLA  | true                 \n",
      " source_username      | Chris Castro         \n",
      "-RECORD 12-----------------------------------\n",
      " source_id            | 135723               \n",
      " case_id              | 1014307268           \n",
      " case_opened_date     | 2018-03-08 13:30:00  \n",
      " case_closed_date     | 2018-03-08 22:36:00  \n",
      " case_due_date        | 2020-12-01 13:30:00  \n",
      " case_late            | false                \n",
      " num_days_late        | -998.6203588         \n",
      " case_closed          | true                 \n",
      " service_request_type | Stray Animal         \n",
      " SLA_days             | 999.0                \n",
      " case_status          | Closed               \n",
      " request_address      | 2015  LOOP 410 SW... \n",
      " council_district     | 4                    \n",
      " department           | Animal Care Services \n",
      " dept_subject_to_SLA  | true                 \n",
      " source_username      | Amy Cardenas         \n",
      "-RECORD 13-----------------------------------\n",
      " source_id            | svcCRMSS             \n",
      " case_id              | 1014307417           \n",
      " case_opened_date     | 2018-03-08 13:50:00  \n",
      " case_closed_date     | 2018-03-08 13:53:00  \n",
      " case_due_date        | 2020-12-01 13:50:00  \n",
      " case_late            | false                \n",
      " num_days_late        | -998.997963          \n",
      " case_closed          | true                 \n",
      " service_request_type | Stray Animal         \n",
      " SLA_days             | 999.0                \n",
      " case_status          | Closed               \n",
      " request_address      | DORIE ST and AMANDA  \n",
      " council_district     | 2                    \n",
      " department           | Animal Care Services \n",
      " dept_subject_to_SLA  | true                 \n",
      " source_username      | svcCRMSS             \n",
      "-RECORD 14-----------------------------------\n",
      " source_id            | svcCRMSS             \n",
      " case_id              | 1014307622           \n",
      " case_opened_date     | 2018-03-08 14:23:00  \n",
      " case_closed_date     | 2018-03-08 17:32:00  \n",
      " case_due_date        | 2020-12-01 14:23:00  \n",
      " case_late            | false                \n",
      " num_days_late        | -998.8686921         \n",
      " case_closed          | true                 \n",
      " service_request_type | Stray Animal         \n",
      " SLA_days             | 999.0                \n",
      " case_status          | Closed               \n",
      " request_address      | 2102  LEAL ST, Sa... \n",
      " council_district     | 5                    \n",
      " department           | Animal Care Services \n",
      " dept_subject_to_SLA  | true                 \n",
      " source_username      | svcCRMSS             \n",
      "-RECORD 15-----------------------------------\n",
      " source_id            | svcCRMSS             \n",
      " case_id              | 1014307636           \n",
      " case_opened_date     | 2018-03-08 14:25:00  \n",
      " case_closed_date     | 2018-03-08 17:13:00  \n",
      " case_due_date        | 2020-12-01 14:25:00  \n",
      " case_late            | false                \n",
      " num_days_late        | -998.8835185         \n",
      " case_closed          | true                 \n",
      " service_request_type | Stray Animal         \n",
      " SLA_days             | 999.0                \n",
      " case_status          | Closed               \n",
      " request_address      | 1000  22ND ST NW,... \n",
      " council_district     | 5                    \n",
      " department           | Animal Care Services \n",
      " dept_subject_to_SLA  | true                 \n",
      " source_username      | svcCRMSS             \n",
      "-RECORD 16-----------------------------------\n",
      " source_id            | DS15677              \n",
      " case_id              | 1014307661           \n",
      " case_opened_date     | 2018-03-08 14:30:00  \n",
      " case_closed_date     | 2018-03-08 22:31:00  \n",
      " case_due_date        | 2020-12-01 14:30:00  \n",
      " case_late            | false                \n",
      " num_days_late        | -998.6661227         \n",
      " case_closed          | true                 \n",
      " service_request_type | Stray Animal         \n",
      " SLA_days             | 999.0                \n",
      " case_status          | Closed               \n",
      " request_address      | MILITARY DR SE an... \n",
      " council_district     | 3                    \n",
      " department           | Animal Care Services \n",
      " dept_subject_to_SLA  | true                 \n",
      " source_username      | Delilah Sanchez      \n",
      "-RECORD 17-----------------------------------\n",
      " source_id            | 138650               \n",
      " case_id              | 1014307802           \n",
      " case_opened_date     | 2018-03-08 14:52:00  \n",
      " case_closed_date     | 2018-03-08 20:00:00  \n",
      " case_due_date        | 2020-12-01 14:52:00  \n",
      " case_late            | false                \n",
      " num_days_late        | -998.7860069         \n",
      " case_closed          | true                 \n",
      " service_request_type | Stray Animal         \n",
      " SLA_days             | 999.0                \n",
      " case_status          | Closed               \n",
      " request_address      | 8300  ROCK MIST, ... \n",
      " council_district     | 8                    \n",
      " department           | Animal Care Services \n",
      " dept_subject_to_SLA  | true                 \n",
      " source_username      | Kimberly Green-Woods \n",
      "-RECORD 18-----------------------------------\n",
      " source_id            | 138650               \n",
      " case_id              | 1014307802           \n",
      " case_opened_date     | 2018-03-08 14:52:00  \n",
      " case_closed_date     | 2018-03-08 20:00:00  \n",
      " case_due_date        | 2020-12-01 14:52:00  \n",
      " case_late            | false                \n",
      " num_days_late        | -998.7860069         \n",
      " case_closed          | true                 \n",
      " service_request_type | Stray Animal         \n",
      " SLA_days             | 999.0                \n",
      " case_status          | Closed               \n",
      " request_address      | 8300  ROCK MIST, ... \n",
      " council_district     | 8                    \n",
      " department           | Animal Care Services \n",
      " dept_subject_to_SLA  | true                 \n",
      " source_username      | Kimberly Green       \n",
      "-RECORD 19-----------------------------------\n",
      " source_id            | 141239               \n",
      " case_id              | 1014308020           \n",
      " case_opened_date     | 2018-03-08 15:26:00  \n",
      " case_closed_date     | 2018-03-08 17:05:00  \n",
      " case_due_date        | 2020-12-01 15:26:00  \n",
      " case_late            | false                \n",
      " num_days_late        | -998.9311921         \n",
      " case_closed          | true                 \n",
      " service_request_type | Stray Animal         \n",
      " SLA_days             | 999.0                \n",
      " case_status          | Closed               \n",
      " request_address      | 7530  NW 410, San... \n",
      " council_district     | 6                    \n",
      " department           | Animal Care Services \n",
      " dept_subject_to_SLA  | true                 \n",
      " source_username      | Erica Flores         \n",
      "only showing top 20 rows\n",
      "\n"
     ]
    }
   ],
   "source": [
    "df.filter(col('case_due_date') >= current_timestamp()).show(vertical=True)"
   ]
  },
  {
   "cell_type": "code",
   "execution_count": null,
   "metadata": {},
   "outputs": [],
   "source": []
  }
 ],
 "metadata": {
  "kernelspec": {
   "display_name": "Python 3",
   "language": "python",
   "name": "python3"
  },
  "language_info": {
   "codemirror_mode": {
    "name": "ipython",
    "version": 3
   },
   "file_extension": ".py",
   "mimetype": "text/x-python",
   "name": "python",
   "nbconvert_exporter": "python",
   "pygments_lexer": "ipython3",
   "version": "3.7.6"
  }
 },
 "nbformat": 4,
 "nbformat_minor": 4
}
